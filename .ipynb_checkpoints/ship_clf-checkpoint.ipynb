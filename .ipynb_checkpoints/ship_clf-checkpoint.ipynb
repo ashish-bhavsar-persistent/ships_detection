{
 "metadata": {
  "name": "",
  "signature": "sha256:f58963cbd985dad603d70da355c2ad28591770fda22c6325ac95c9a92395e0e3"
 },
 "nbformat": 3,
 "nbformat_minor": 0,
 "worksheets": [
  {
   "cells": [
    {
     "cell_type": "code",
     "collapsed": false,
     "input": [
      "import os\n",
      "import zipfile\n",
      "import numpy as np \n",
      "from sklearn import svm\n",
      "from sklearn.model_selection import train_test_split\n",
      "from sklearn.metrics import classification_report,accuracy_score\n",
      "from sklearn.externals import joblib\n",
      "import cv2"
     ],
     "language": "python",
     "metadata": {},
     "outputs": [],
     "prompt_number": 18
    },
    {
     "cell_type": "code",
     "collapsed": false,
     "input": [
      "# Decompress dataset and testing images\n",
      "zip_ref = zipfile.ZipFile(\"dataset.zip\", 'r')\n",
      "zip_ref.extractall()\n",
      "zip_ref.close()"
     ],
     "language": "python",
     "metadata": {},
     "outputs": [],
     "prompt_number": 19
    },
    {
     "cell_type": "code",
     "collapsed": false,
     "input": [
      "# Load dataset using their XML trees\n",
      "path = 'ships_dataset'\n",
      "img_files = [(os.path.join(root, name))\n",
      "    for root, dirs, files in os.walk(path)\n",
      "    for name in files if name.endswith((\".jpg\"))]"
     ],
     "language": "python",
     "metadata": {},
     "outputs": [],
     "prompt_number": 20
    },
    {
     "cell_type": "code",
     "collapsed": false,
     "input": [
      "print img_files[0]"
     ],
     "language": "python",
     "metadata": {},
     "outputs": [
      {
       "output_type": "stream",
       "stream": "stdout",
       "text": [
        "ships_dataset/3075_0.jpg\n"
       ]
      }
     ],
     "prompt_number": 21
    },
    {
     "cell_type": "code",
     "collapsed": false,
     "input": [
      "# HOG parametrization\n",
      "winSize = (32,32)\n",
      "blockSize = (16,16)\n",
      "blockStride = (8,8)\n",
      "cellSize = (8,8)\n",
      "nbins = 9\n",
      "derivAperture = 1\n",
      "winSigma = -1.\n",
      "histogramNormType = 0\n",
      "L2HysThreshold = 0.2\n",
      "gammaCorrection = 1\n",
      "nlevels = 64\n",
      "useSignedGradients = True\n",
      "\n",
      "# Define HOG descriptor \n",
      "hog = cv2.HOGDescriptor(winSize,blockSize,blockStride,\n",
      "\tcellSize,nbins,derivAperture,winSigma,histogramNormType\n",
      "\t,L2HysThreshold,gammaCorrection,nlevels, useSignedGradients)"
     ],
     "language": "python",
     "metadata": {},
     "outputs": [],
     "prompt_number": 22
    },
    {
     "cell_type": "code",
     "collapsed": false,
     "input": [
      "# Retrieve information and image patches from XML\n",
      "features = np.zeros((1,324),np.float32)\n",
      "labels = np.zeros(1,np.int64)\n",
      "for i in img_files:\n",
      "\t# Read images\n",
      "\timg = cv2.imread(i)\n",
      "\t# Resize to winSize\n",
      "\tresized_img = cv2.resize(img, winSize)\n",
      "\t# Compute HOG descriptor ans stack them as features\n",
      "\tdescriptor = np.transpose(hog.compute(resized_img))\n",
      "\t#print descriptor.shape\n",
      "\tfeatures = np.vstack((features, descriptor))\n",
      "\t# Stack the labels\n",
      "\tlabels = np.vstack((labels, int(i[-5])))\n",
      "\n",
      "features = np.delete(features, (0), axis=0)\n",
      "labels = np.delete(labels, (0), axis=0).ravel()"
     ],
     "language": "python",
     "metadata": {},
     "outputs": [],
     "prompt_number": 23
    },
    {
     "cell_type": "code",
     "collapsed": false,
     "input": [
      "# Split data for training and testing\n",
      "X_train, X_test, y_train, y_test = train_test_split(features, \n",
      "                                                    labels, \n",
      "                                                    test_size=0.2, \n",
      "                                                    random_state=42)\n",
      "print 'X_train: ', X_train.shape, 'y_train', y_train.shape\n",
      "print 'X_test: ', X_test.shape, 'X_test: ', y_test.shape"
     ],
     "language": "python",
     "metadata": {},
     "outputs": [
      {
       "output_type": "stream",
       "stream": "stdout",
       "text": [
        "X_train:  (2880, 324) y_train (2880,)\n",
        "X_test:  (720, 324) X_test:  (720,)\n"
       ]
      }
     ],
     "prompt_number": 24
    },
    {
     "cell_type": "code",
     "collapsed": false,
     "input": [
      "# Define Support Vectors Machine Classifier\n",
      "clf = svm.SVC()\n",
      "# Fit with training data and labels\n",
      "clf.fit(X_train, y_train)"
     ],
     "language": "python",
     "metadata": {},
     "outputs": [
      {
       "metadata": {},
       "output_type": "pyout",
       "prompt_number": 25,
       "text": [
        "SVC(C=1.0, cache_size=200, class_weight=None, coef0=0.0,\n",
        "  decision_function_shape='ovr', degree=3, gamma='auto', kernel='rbf',\n",
        "  max_iter=-1, probability=False, random_state=None, shrinking=True,\n",
        "  tol=0.001, verbose=False)"
       ]
      }
     ],
     "prompt_number": 25
    },
    {
     "cell_type": "code",
     "collapsed": false,
     "input": [
      "# Predict with the trained classifier for the testing set\n",
      "y_pred = clf.predict(X_test)\n",
      "print 'Accuracy: ', accuracy_score(y_test, y_pred)"
     ],
     "language": "python",
     "metadata": {},
     "outputs": [
      {
       "output_type": "stream",
       "stream": "stdout",
       "text": [
        "Accuracy:  0.9388888888888889\n"
       ]
      }
     ],
     "prompt_number": 26
    },
    {
     "cell_type": "code",
     "collapsed": false,
     "input": [
      "print 'Classification report:'\n",
      "print classification_report(y_test, y_pred)\n",
      "# Save classifier\n",
      "joblib.dump(clf, 'ship_hog_svm_clf.pkl')"
     ],
     "language": "python",
     "metadata": {},
     "outputs": [
      {
       "output_type": "stream",
       "stream": "stdout",
       "text": [
        "Classification report:\n",
        "             precision    recall  f1-score   support\n",
        "\n",
        "          0       0.94      0.98      0.96       545\n",
        "          1       0.92      0.82      0.87       175\n",
        "\n",
        "avg / total       0.94      0.94      0.94       720\n",
        "\n"
       ]
      },
      {
       "metadata": {},
       "output_type": "pyout",
       "prompt_number": 27,
       "text": [
        "['ship_hog_svm_clf.pkl']"
       ]
      }
     ],
     "prompt_number": 27
    },
    {
     "cell_type": "code",
     "collapsed": false,
     "input": [],
     "language": "python",
     "metadata": {},
     "outputs": []
    }
   ],
   "metadata": {}
  }
 ]
}