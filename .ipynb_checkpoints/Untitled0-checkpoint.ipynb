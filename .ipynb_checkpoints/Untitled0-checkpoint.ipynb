{
 "metadata": {
  "name": "",
  "signature": "sha256:651916a905137e4421996a985d9ddde772b88d82e6b90d624183e212466a6ea8"
 },
 "nbformat": 3,
 "nbformat_minor": 0,
 "worksheets": []
}